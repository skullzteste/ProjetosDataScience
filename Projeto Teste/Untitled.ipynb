{
 "cells": [
  {
   "cell_type": "code",
   "execution_count": 1,
   "id": "074dcf53-4de6-4429-943c-4a9e920bab17",
   "metadata": {},
   "outputs": [
    {
     "name": "stdout",
     "output_type": "stream",
     "text": [
      "['Alabama ', 'Georgia!', 'Georgia', 'georgia', 'FlOrIda', 'south carolina##', 'West virginia?']\n"
     ]
    }
   ],
   "source": [
    "import pandas as pd\n",
    "import re\n",
    "\n",
    "states = ['Alabama ', 'Georgia!', 'Georgia', 'georgia', 'FlOrIda',\n",
    "'south carolina##', 'West virginia?']\n",
    "\n",
    "print(states)"
   ]
  },
  {
   "cell_type": "code",
   "execution_count": 8,
   "id": "e7a96eb8-65a4-407b-a172-5dbb9ba4a909",
   "metadata": {},
   "outputs": [
    {
     "name": "stdout",
     "output_type": "stream",
     "text": [
      "['Alabama ', 'Georgia!', 'Georgia', 'Georgia', 'Florida', 'South Carolina##', 'West Virginia?']\n"
     ]
    }
   ],
   "source": [
    "resultado=[]\n",
    "for valor in states:\n",
    "    \n",
    "    teste = valor.title()\n",
    "    resultado.append(teste)\n",
    "print(resultado)"
   ]
  },
  {
   "cell_type": "code",
   "execution_count": null,
   "id": "e0f36e98-fece-4018-b448-6126e283967f",
   "metadata": {},
   "outputs": [],
   "source": []
  }
 ],
 "metadata": {
  "kernelspec": {
   "display_name": "Python 3 (ipykernel)",
   "language": "python",
   "name": "python3"
  },
  "language_info": {
   "codemirror_mode": {
    "name": "ipython",
    "version": 3
   },
   "file_extension": ".py",
   "mimetype": "text/x-python",
   "name": "python",
   "nbconvert_exporter": "python",
   "pygments_lexer": "ipython3",
   "version": "3.8.10"
  }
 },
 "nbformat": 4,
 "nbformat_minor": 5
}
